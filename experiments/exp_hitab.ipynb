{
 "cells": [
  {
   "cell_type": "code",
   "execution_count": null,
   "metadata": {},
   "outputs": [],
   "source": [
    "import json\n",
    "import numpy as np\n",
    "import matplotlib.pyplot as plt"
   ]
  },
  {
   "cell_type": "code",
   "execution_count": null,
   "metadata": {},
   "outputs": [],
   "source": [
    "# Load HiTab data\n",
    "with open(\"HiTab/dev_samples.jsonl\", \"r\") as file:\n",
    "    data = [json.loads(line) for line in file]\n",
    "\n",
    "# Extract hierarchies and table cells\n",
    "table = data[0]  "
   ]
  },
  {
   "cell_type": "code",
   "execution_count": 3,
   "metadata": {},
   "outputs": [
    {
     "data": {
      "text/plain": [
       "{'id': 'e3ea71e57afb31f0b257426444523c3e',\n",
       " 'table_id': '0_1_nsf21326-tab001',\n",
       " 'table_source': 'nsf',\n",
       " 'sentence_id': '1',\n",
       " 'sub_sentence_id': '1',\n",
       " 'sub_sentence': 'if the pre-production development activities were to be included, the fy 2017 r&d budget authority would have been $155.0 billion instead of the $125.3 billion in actual budget authority.',\n",
       " 'question': 'if the pre-production development activities were to be included, how many dollars would the fy 2017 r&d budget authority have been?',\n",
       " 'answer': [154983.0],\n",
       " 'aggregation': ['none'],\n",
       " 'linked_cells': {'entity_link': {'top': {'the fy 2017 r&d budget': {'(0, 1)': '2017 actual'}},\n",
       "   'left': {'pre-production development activities': {'(18, 0)': 'total'}},\n",
       "   'top_left_corner': {}},\n",
       "  'quantity_link': {'125.3 billion': {'(17, 1)': 125289.0},\n",
       "   '[ANSWER]': {'(18, 1)': 154983.0}}},\n",
       " 'answer_formulas': ['=B21'],\n",
       " 'reference_cells_map': {'B21': '(18, 1)'}}"
      ]
     },
     "execution_count": 3,
     "metadata": {},
     "output_type": "execute_result"
    }
   ],
   "source": [
    "table"
   ]
  },
  {
   "cell_type": "code",
   "execution_count": 14,
   "metadata": {},
   "outputs": [],
   "source": [
    "from sentence_transformers import SentenceTransformer\n",
    "\n",
    "# Initialize the model\n",
    "model = SentenceTransformer('all-MiniLM-L6-v2')\n",
    "\n",
    "# Sample data\n",
    "\n",
    "def encode_text(text):\n",
    "    return model.encode(text)\n",
    "\n",
    "def serialize_dict(d):\n",
    "    return json.dumps(d, sort_keys=True)\n",
    "\n",
    "def serialize_list(lst):\n",
    "    return ', '.join(map(str, lst))\n",
    "\n",
    "def get_embeddings(table):\n",
    "\n",
    "    # Encoding different components\n",
    "    metadata_keys = ['id', 'table_id', 'table_source', 'sentence_id', 'sub_sentence_id']\n",
    "    metadata_text = \" | \".join([f\"{key}: {table[key]}\" for key in metadata_keys])\n",
    "\n",
    "    sub_sentence_embedding = encode_text(table['sub_sentence'])\n",
    "    question_embedding = encode_text(table['question'])\n",
    "\n",
    "    # Serialize and encode linked_cells\n",
    "    linked_cells_serialized = serialize_dict(table['linked_cells'])\n",
    "    linked_cells_embedding = encode_text(linked_cells_serialized)\n",
    "\n",
    "    # Serialize and encode formulas and references\n",
    "    formulas_serialized = serialize_list(table['answer_formulas'])\n",
    "    formulas_embedding = encode_text(formulas_serialized)\n",
    "\n",
    "    references_serialized = serialize_dict(table['reference_cells_map'])\n",
    "    references_embedding = encode_text(references_serialized)\n",
    "\n",
    "    # Serialize and encode metadata\n",
    "    metadata_embedding = encode_text(metadata_text)\n",
    "\n",
    "    # Encode answers and aggregations (if applicable)\n",
    "    # For numerical answers, you might normalize or embed them differently\n",
    "    # Here, we'll serialize them as strings\n",
    "    answers_serialized = serialize_list(table['answer'])\n",
    "    answers_embedding = encode_text(answers_serialized)\n",
    "\n",
    "    aggregations_serialized = serialize_list(table['aggregation'])\n",
    "    aggregations_embedding = encode_text(aggregations_serialized)\n",
    "\n",
    "    # Combine all embeddings\n",
    "    # Simple concatenation or averaging can be used; more sophisticated methods can be applied\n",
    "    combined_embedding = np.array([\n",
    "        metadata_embedding,\n",
    "        sub_sentence_embedding,\n",
    "        question_embedding,\n",
    "        linked_cells_embedding,\n",
    "        formulas_embedding,\n",
    "        references_embedding,\n",
    "        answers_embedding,\n",
    "        aggregations_embedding\n",
    "    ])\n",
    "\n",
    "    return combined_embedding\n",
    "    # print(\"Combined Embedding Shape:\", combined_embedding.shape)\n",
    "\n",
    "def encode_data(data):\n",
    "    emb_tensor = np.stack([get_embeddings(item) for item in data], axis=0)\n",
    "    return emb_tensor"
   ]
  },
  {
   "cell_type": "code",
   "execution_count": 16,
   "metadata": {},
   "outputs": [],
   "source": [
    "X = encode_data(data)"
   ]
  },
  {
   "cell_type": "code",
   "execution_count": 18,
   "metadata": {},
   "outputs": [],
   "source": [
    "np.savez('compressedHiTab.npz', X)"
   ]
  }
 ],
 "metadata": {
  "kernelspec": {
   "display_name": "fokin_pg",
   "language": "python",
   "name": "python3"
  },
  "language_info": {
   "codemirror_mode": {
    "name": "ipython",
    "version": 3
   },
   "file_extension": ".py",
   "mimetype": "text/x-python",
   "name": "python",
   "nbconvert_exporter": "python",
   "pygments_lexer": "ipython3",
   "version": "3.13.0"
  }
 },
 "nbformat": 4,
 "nbformat_minor": 2
}
